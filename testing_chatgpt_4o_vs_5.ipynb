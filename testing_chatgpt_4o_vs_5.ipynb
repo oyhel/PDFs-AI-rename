{
 "cells": [
  {
   "cell_type": "code",
   "execution_count": null,
   "id": "08abc590",
   "metadata": {},
   "outputs": [
    {
     "name": "stdout",
     "output_type": "stream",
     "text": [
      "{'error': {'message': \"Unsupported parameter: 'max_tokens' is not supported with this model. Use 'max_completion_tokens' instead.\", 'type': 'invalid_request_error', 'param': 'max_tokens', 'code': 'unsupported_parameter'}}\n"
     ]
    }
   ],
   "source": [
    "### TESTING CHATGPT 4o ###\n",
    "\n",
    "import base64\n",
    "import requests\n",
    "import os\n",
    "\n",
    "# Replace with your actual API key\n",
    "#api_key = \"YOUR_OPENAI_API_KEY\"\n",
    "api_key = os.environ.get(\"OPENAI_API_KEY\")\n",
    "image_path = r\"C:\\Users\\oyvind\\test.png\"\n",
    "\n",
    "# Encode the image to Base64\n",
    "with open(image_path, \"rb\") as image_file:\n",
    "    encoded_image = base64.b64encode(image_file.read()).decode('utf-8')\n",
    "\n",
    "headers = {\n",
    "    \"Authorization\": f\"Bearer {api_key}\",\n",
    "    \"Content-Type\": \"application/json\"\n",
    "}\n",
    "\n",
    "payload = {\n",
    "    \"model\": \"gpt-4o\",  # Or another vision-capable model like gpt-4-turbo\n",
    "    \"messages\": [\n",
    "        {\n",
    "            \"role\": \"user\",\n",
    "            \"content\": [\n",
    "                {\"type\": \"text\", \"text\": \"Extract all text from this image.\"},\n",
    "                {\n",
    "                    \"type\": \"image_url\",\n",
    "                    \"image_url\": {\n",
    "                        \"url\": f\"data:image/png;base64,{encoded_image}\"\n",
    "                    }\n",
    "                }\n",
    "            ]\n",
    "        }\n",
    "    ],\n",
    "    \"max_tokens\": 300\n",
    "}\n",
    "\n",
    "response = requests.post(\"https://api.openai.com/v1/chat/completions\", headers=headers, json=payload)\n",
    "print(response.json())"
   ]
  },
  {
   "cell_type": "code",
   "execution_count": 5,
   "id": "611ae7ad",
   "metadata": {},
   "outputs": [
    {
     "name": "stdout",
     "output_type": "stream",
     "text": [
      "{'id': 'chatcmpl-C993FTwhUq3KEgC3xqiwT8kzpAAJj', 'object': 'chat.completion', 'created': 1756295781, 'model': 'gpt-4o-2024-08-06', 'choices': [{'index': 0, 'message': {'role': 'assistant', 'content': 'Here\\'s the text extracted from the image:\\n\\n```\\nRENING\\n\\nNummer 4819076\\nDato 27.3.25\\n\\nArnold Høyhom\\n\"Fort\" Kroner 4500,\\n+5% avgift 225,-\\n+5 kort av\\nInger J. Kvamsten 275,-\\n\\nBest nr. pukk\\nMottatt Dato Kroner\\nUnderskrift Mva\\nTOTAL SUM 5000,-\\n```', 'refusal': None, 'annotations': []}, 'logprobs': None, 'finish_reason': 'stop'}], 'usage': {'prompt_tokens': 779, 'completion_tokens': 93, 'total_tokens': 872, 'prompt_tokens_details': {'cached_tokens': 0, 'audio_tokens': 0}, 'completion_tokens_details': {'reasoning_tokens': 0, 'audio_tokens': 0, 'accepted_prediction_tokens': 0, 'rejected_prediction_tokens': 0}}, 'service_tier': 'default', 'system_fingerprint': 'fp_80956533cb'}\n"
     ]
    }
   ],
   "source": [
    "### TESTING CHATGPT 5 #####\n",
    "\n",
    "import base64\n",
    "import requests\n",
    "import os\n",
    "\n",
    "# Replace with your actual API key\n",
    "#api_key = \"YOUR_OPENAI_API_KEY\"\n",
    "api_key = os.environ.get(\"OPENAI_API_KEY\")\n",
    "image_path = r\"C:\\Users\\oyvind\\test.png\"\n",
    "\n",
    "# Encode the image to Base64\n",
    "with open(image_path, \"rb\") as image_file:\n",
    "    encoded_image = base64.b64encode(image_file.read()).decode('utf-8')\n",
    "\n",
    "headers = {\n",
    "    \"Authorization\": f\"Bearer {api_key}\",\n",
    "    \"Content-Type\": \"application/json\"\n",
    "}\n",
    "\n",
    "payload = {\n",
    "    \"model\": \"gpt-4o\",  # Or another vision-capable model like gpt-4-turbo\n",
    "    \"messages\": [\n",
    "        {\n",
    "            \"role\": \"user\",\n",
    "            \"content\": [\n",
    "                {\"type\": \"text\", \"text\": \"Extract all text from this image.\"},\n",
    "                {\n",
    "                    \"type\": \"image_url\",\n",
    "                    \"image_url\": {\n",
    "                        \"url\": f\"data:image/png;base64,{encoded_image}\"\n",
    "                    }\n",
    "                }\n",
    "            ]\n",
    "        }\n",
    "    ],\n",
    "    \"max_completion_tokens\": 300\n",
    "}\n",
    "\n",
    "response = requests.post(\"https://api.openai.com/v1/chat/completions\", headers=headers, json=payload)\n",
    "print(response.json())"
   ]
  },
  {
   "cell_type": "code",
   "execution_count": null,
   "id": "0117aaaa",
   "metadata": {},
   "outputs": [],
   "source": []
  }
 ],
 "metadata": {
  "kernelspec": {
   "display_name": "pdfs-ai-rename (3.13.3)",
   "language": "python",
   "name": "python3"
  },
  "language_info": {
   "codemirror_mode": {
    "name": "ipython",
    "version": 3
   },
   "file_extension": ".py",
   "mimetype": "text/x-python",
   "name": "python",
   "nbconvert_exporter": "python",
   "pygments_lexer": "ipython3",
   "version": "3.13.3"
  }
 },
 "nbformat": 4,
 "nbformat_minor": 5
}
